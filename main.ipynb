{
 "cells": [
  {
   "cell_type": "code",
   "execution_count": 1,
   "id": "6abc5c00-1327-47a1-b823-1d211dafde1b",
   "metadata": {},
   "outputs": [],
   "source": [
    "# # # !pip install transformers accelerate\n",
    "# !pip install datasets"
   ]
  },
  {
   "cell_type": "code",
   "execution_count": 2,
   "id": "ce4e1883-69a5-4c2e-bc70-e0380554a20c",
   "metadata": {},
   "outputs": [],
   "source": [
    "from datasets import load_dataset"
   ]
  },
  {
   "cell_type": "code",
   "execution_count": 3,
   "id": "395b57ac-8d9d-467e-a8fa-d21a56a017fa",
   "metadata": {},
   "outputs": [],
   "source": [
    "multinews = load_dataset(\"multi_news\", split = 'test',trust_remote_code=True)"
   ]
  },
  {
   "cell_type": "code",
   "execution_count": 4,
   "id": "9c77d339-e9ad-44f2-ae08-c000880ca0bb",
   "metadata": {},
   "outputs": [
    {
     "data": {
      "text/html": [
       "<div>\n",
       "<style scoped>\n",
       "    .dataframe tbody tr th:only-of-type {\n",
       "        vertical-align: middle;\n",
       "    }\n",
       "\n",
       "    .dataframe tbody tr th {\n",
       "        vertical-align: top;\n",
       "    }\n",
       "\n",
       "    .dataframe thead th {\n",
       "        text-align: right;\n",
       "    }\n",
       "</style>\n",
       "<table border=\"1\" class=\"dataframe\">\n",
       "  <thead>\n",
       "    <tr style=\"text-align: right;\">\n",
       "      <th></th>\n",
       "      <th>document</th>\n",
       "      <th>summary</th>\n",
       "    </tr>\n",
       "  </thead>\n",
       "  <tbody>\n",
       "    <tr>\n",
       "      <th>0</th>\n",
       "      <td>GOP Eyes Gains As Voters In 11 States Pick Gov...</td>\n",
       "      <td>– It's a race for the governor's mansion in 11...</td>\n",
       "    </tr>\n",
       "    <tr>\n",
       "      <th>1</th>\n",
       "      <td>\\n \\n \\n \\n UPDATE: 4/19/2001 Read Richard Met...</td>\n",
       "      <td>– It turns out Facebook is only guilty of abou...</td>\n",
       "    </tr>\n",
       "    <tr>\n",
       "      <th>2</th>\n",
       "      <td>It's the Golden State's latest version of the ...</td>\n",
       "      <td>– Not a big fan of Southern California? Neithe...</td>\n",
       "    </tr>\n",
       "    <tr>\n",
       "      <th>3</th>\n",
       "      <td>The seed for this crawl was a list of every ho...</td>\n",
       "      <td>– Why did Microsoft buy Nokia's phone business...</td>\n",
       "    </tr>\n",
       "    <tr>\n",
       "      <th>4</th>\n",
       "      <td>After a year in which liberals scored impressi...</td>\n",
       "      <td>– The Supreme Court is facing a docket of high...</td>\n",
       "    </tr>\n",
       "    <tr>\n",
       "      <th>...</th>\n",
       "      <td>...</td>\n",
       "      <td>...</td>\n",
       "    </tr>\n",
       "    <tr>\n",
       "      <th>5617</th>\n",
       "      <td>Tweet with a location \\n \\n You can add locati...</td>\n",
       "      <td>– The traditional end-of-summit group photo at...</td>\n",
       "    </tr>\n",
       "    <tr>\n",
       "      <th>5618</th>\n",
       "      <td>Loic Venance/AFP/Getty Images \\n \\n The awards...</td>\n",
       "      <td>– Sofia Coppola scored a historic victory at t...</td>\n",
       "    </tr>\n",
       "    <tr>\n",
       "      <th>5619</th>\n",
       "      <td>(CNN) A federal criminal investigation into a ...</td>\n",
       "      <td>– The duck boat sinking that killed 17 on a Mi...</td>\n",
       "    </tr>\n",
       "    <tr>\n",
       "      <th>5620</th>\n",
       "      <td>An archive of the public statements deleted by...</td>\n",
       "      <td>– Note to tweeting politicians: Watch what you...</td>\n",
       "    </tr>\n",
       "    <tr>\n",
       "      <th>5621</th>\n",
       "      <td>An apparently simple email about a holiday pot...</td>\n",
       "      <td>– \"STOP THE MADNESS!!!!,\" \"dear lord,\" and \"I ...</td>\n",
       "    </tr>\n",
       "  </tbody>\n",
       "</table>\n",
       "<p>5622 rows × 2 columns</p>\n",
       "</div>"
      ],
      "text/plain": [
       "                                               document  \\\n",
       "0     GOP Eyes Gains As Voters In 11 States Pick Gov...   \n",
       "1     \\n \\n \\n \\n UPDATE: 4/19/2001 Read Richard Met...   \n",
       "2     It's the Golden State's latest version of the ...   \n",
       "3     The seed for this crawl was a list of every ho...   \n",
       "4     After a year in which liberals scored impressi...   \n",
       "...                                                 ...   \n",
       "5617  Tweet with a location \\n \\n You can add locati...   \n",
       "5618  Loic Venance/AFP/Getty Images \\n \\n The awards...   \n",
       "5619  (CNN) A federal criminal investigation into a ...   \n",
       "5620  An archive of the public statements deleted by...   \n",
       "5621  An apparently simple email about a holiday pot...   \n",
       "\n",
       "                                                summary  \n",
       "0     – It's a race for the governor's mansion in 11...  \n",
       "1     – It turns out Facebook is only guilty of abou...  \n",
       "2     – Not a big fan of Southern California? Neithe...  \n",
       "3     – Why did Microsoft buy Nokia's phone business...  \n",
       "4     – The Supreme Court is facing a docket of high...  \n",
       "...                                                 ...  \n",
       "5617  – The traditional end-of-summit group photo at...  \n",
       "5618  – Sofia Coppola scored a historic victory at t...  \n",
       "5619  – The duck boat sinking that killed 17 on a Mi...  \n",
       "5620  – Note to tweeting politicians: Watch what you...  \n",
       "5621  – \"STOP THE MADNESS!!!!,\" \"dear lord,\" and \"I ...  \n",
       "\n",
       "[5622 rows x 2 columns]"
      ]
     },
     "execution_count": 4,
     "metadata": {},
     "output_type": "execute_result"
    }
   ],
   "source": [
    "multinews.to_pandas()"
   ]
  },
  {
   "cell_type": "code",
   "execution_count": 5,
   "id": "5bf9d130-9ab4-4588-8952-0e8d950c1ce4",
   "metadata": {},
   "outputs": [],
   "source": [
    "from transformers import AutoTokenizer"
   ]
  },
  {
   "cell_type": "code",
   "execution_count": 6,
   "id": "cc1b2924-d022-40e7-a1f1-8383d8d502d4",
   "metadata": {},
   "outputs": [],
   "source": [
    "tokenizer = AutoTokenizer.from_pretrained('t5-small')"
   ]
  },
  {
   "cell_type": "code",
   "execution_count": 7,
   "id": "ca6da3f5-3a37-4558-975d-0e262ca03d38",
   "metadata": {},
   "outputs": [],
   "source": [
    "multi_news = multinews.train_test_split(test_size=0.2)"
   ]
  },
  {
   "cell_type": "code",
   "execution_count": 8,
   "id": "65dd7d6c-8766-4ef0-9ced-99b60b79e5fc",
   "metadata": {},
   "outputs": [],
   "source": [
    "prefix = 'summarize'\n",
    "def process_function(examples):\n",
    "    input = [prefix + doc for doc in examples['document']]\n",
    "    model_input = tokenizer(input , max_length = 1024, truncation = True)\n",
    "    labels = tokenizer(text = examples['summary'], max_length = 128)\n",
    "    model_input['labels'] = labels['input_ids']\n",
    "\n",
    "    return model_input"
   ]
  },
  {
   "cell_type": "code",
   "execution_count": 9,
   "id": "6ca6248c-51d0-4657-8d31-cf31eef499a5",
   "metadata": {},
   "outputs": [
    {
     "data": {
      "application/vnd.jupyter.widget-view+json": {
       "model_id": "fafe841211a044f396af0e1d2753be0c",
       "version_major": 2,
       "version_minor": 0
      },
      "text/plain": [
       "Map:   0%|          | 0/4497 [00:00<?, ? examples/s]"
      ]
     },
     "metadata": {},
     "output_type": "display_data"
    },
    {
     "name": "stderr",
     "output_type": "stream",
     "text": [
      "Truncation was not explicitly activated but `max_length` is provided a specific value, please use `truncation=True` to explicitly truncate examples to max length. Defaulting to 'longest_first' truncation strategy. If you encode pairs of sequences (GLUE-style) with the tokenizer you can select this strategy more precisely by providing a specific strategy to `truncation`.\n"
     ]
    },
    {
     "data": {
      "application/vnd.jupyter.widget-view+json": {
       "model_id": "16dd06271b1c4ec7ba5633de73584d9b",
       "version_major": 2,
       "version_minor": 0
      },
      "text/plain": [
       "Map:   0%|          | 0/1125 [00:00<?, ? examples/s]"
      ]
     },
     "metadata": {},
     "output_type": "display_data"
    }
   ],
   "source": [
    "tokenized_multi_news = multi_news.map(process_function , batched = True)"
   ]
  },
  {
   "cell_type": "code",
   "execution_count": 10,
   "id": "0b36362b-977c-4776-b144-fe75ffb6ebc5",
   "metadata": {},
   "outputs": [],
   "source": [
    "from transformers import DataCollatorForSeq2Seq , AutoModelForSeq2SeqLM ,Seq2SeqTrainingArguments, Seq2SeqTrainer"
   ]
  },
  {
   "cell_type": "code",
   "execution_count": 11,
   "id": "49e92189-aa9f-4d66-a62d-b97c15d4b0ce",
   "metadata": {},
   "outputs": [],
   "source": [
    "data_collator = DataCollatorForSeq2Seq(tokenizer = tokenizer , model = 't5_small')\n",
    "model = AutoModelForSeq2SeqLM.from_pretrained('t5-small')"
   ]
  },
  {
   "cell_type": "code",
   "execution_count": 12,
   "id": "c03d44a3-e9ef-426f-a827-d3d38eeb3506",
   "metadata": {},
   "outputs": [],
   "source": [
    "trainings_args = Seq2SeqTrainingArguments(\n",
    "    output_dir = \"./results\",\n",
    "    eval_strategy = 'epoch',\n",
    "    learning_rate = 2e-5,\n",
    "    per_device_train_batch_size = 10,\n",
    "    per_device_eval_batch_size = 10,\n",
    "    weight_decay = 0.1,\n",
    "    save_total_limit = 3,\n",
    "    num_train_epochs = 10,\n",
    "    fp16 = True\n",
    ")"
   ]
  },
  {
   "cell_type": "code",
   "execution_count": 13,
   "id": "a3f2bcba-9873-4200-b493-e2d59c51afc8",
   "metadata": {},
   "outputs": [],
   "source": [
    "trainer = Seq2SeqTrainer(\n",
    "    model = model, \n",
    "    args = trainings_args,\n",
    "    train_dataset = tokenized_multi_news['train'],\n",
    "    eval_dataset = tokenized_multi_news['test'],\n",
    "    tokenizer = tokenizer,\n",
    "    data_collator = data_collator,\n",
    ")"
   ]
  },
  {
   "cell_type": "code",
   "execution_count": null,
   "id": "fcb4a3e1-e2ad-4a15-a407-cd1c1a2b6a18",
   "metadata": {},
   "outputs": [
    {
     "data": {
      "text/html": [
       "\n",
       "    <div>\n",
       "      \n",
       "      <progress value='130' max='4500' style='width:300px; height:20px; vertical-align: middle;'></progress>\n",
       "      [ 130/4500 1:06:07 < 37:37:29, 0.03 it/s, Epoch 0.29/10]\n",
       "    </div>\n",
       "    <table border=\"1\" class=\"dataframe\">\n",
       "  <thead>\n",
       " <tr style=\"text-align: left;\">\n",
       "      <th>Epoch</th>\n",
       "      <th>Training Loss</th>\n",
       "      <th>Validation Loss</th>\n",
       "    </tr>\n",
       "  </thead>\n",
       "  <tbody>\n",
       "  </tbody>\n",
       "</table><p>"
      ],
      "text/plain": [
       "<IPython.core.display.HTML object>"
      ]
     },
     "metadata": {},
     "output_type": "display_data"
    }
   ],
   "source": [
    "trainer.train()"
   ]
  },
  {
   "cell_type": "code",
   "execution_count": null,
   "id": "8c378648-1a7c-4cdb-b96a-fadd1ca3ba4f",
   "metadata": {},
   "outputs": [],
   "source": [
    "text = \"\"\"\n",
    "    Deep learning is a subset of machine learning that uses multilayered neural networks, called deep neural networks, to simulate the complex decision-making power of the human brain. Some form of deep learning powers most of the artificial intelligence (AI) applications in our lives today.\n",
    "\n",
    "The chief difference between deep learning and machine learning is the structure of the underlying neural network architecture. “Nondeep,” traditional machine learning models use simple neural networks with one or two computational layers. Deep learning models use three or more layers—but typically hundreds or thousands of layers—to train the models.\n",
    "\n",
    "While supervised learning models require structured, labeled input data to make accurate outputs, deep learning models can use unsupervised learning. With unsupervised learning, deep learning models can extract the characteristics, features and relationships they need to make accurate outputs from raw, unstructured data. Additionally, these models can even evaluate and refine their outputs for increased precision.\n",
    "\n",
    "Deep learning is an aspect of data science that drives many applications and services that improve automation, performing analytical and physical tasks without human intervention. This enables many everyday products and services—such as digital assistants, voice-enabled TV remotes, credit card fraud detection, self-driving cars and generative AI. \n",
    "\n",
    "Neural networks, or artificial neural networks, attempt to mimic the human brain through a combination of data inputs, weights and bias—all acting as silicon neurons. These elements work together to accurately recognize, classify and describe objects within the data.\n",
    "\n",
    "Deep neural networks consist of multiple layers of interconnected nodes, each building on the previous layer to refine and optimize the prediction or categorization. This progression of computations through the network is called forward propagation. The input and output layers of a deep neural network are called visible layers. The input layer is where the deep learning model ingests the data for processing, and the output layer is where the final prediction or classification is made.\n",
    "\n",
    "Another process called backpropagation uses algorithms, such as gradient descent, to calculate errors in predictions, and then adjusts the weights and biases of the function by moving backwards through the layers to train the model. Together, forward propagation and backpropagation enable a neural network to make predictions and correct for any errors . Over time, the algorithm becomes gradually more accurate.\n",
    "\n",
    "Deep learning requires a tremendous amount of computing power. High-performance graphical processing units (GPUs) are ideal because they can handle a large volume of calculations in multiple cores with copious memory available. Distributed cloud computing might also assist. This level of computing power is necessary to train deep algorithms through deep learning. However, managing multiple GPUs on premises can create a large demand on internal resources and be incredibly costly to scale. For software requirements, most deep learning apps are coded with one of these three learning frameworks: JAX, PyTorch or TensorFlow.\n",
    "\"\"\""
   ]
  },
  {
   "cell_type": "code",
   "execution_count": null,
   "id": "64ceb378-8486-4a1b-86b4-0cc7344e4405",
   "metadata": {},
   "outputs": [],
   "source": [
    "inputs_ids = tokenize(text,max_length=1024, truncation = True, return_tensors= 'pt').input_ids\n",
    "input_ids = input_ids.to('cuda')"
   ]
  },
  {
   "cell_type": "code",
   "execution_count": null,
   "id": "cfe04197-b95b-4eda-84a4-249028b555f7",
   "metadata": {},
   "outputs": [],
   "source": [
    "import torch\n",
    "with torch.no_grad():\n",
    "    if model.device.type == 'cuda':\n",
    "        output = model.generate(input_ids, max_length=128, num_beams = 5)\n",
    "\n",
    "summary_ids = output[0].tolist()\n",
    "\n",
    "summary = tokenizer.decode(summary_ids, skip_special_tokens = True)\n",
    "print(summary)"
   ]
  },
  {
   "cell_type": "code",
   "execution_count": null,
   "id": "fcdf4fd2-4c8d-4e88-9ffc-9e5ecfef97fa",
   "metadata": {},
   "outputs": [],
   "source": [
    "ref_summary  = \"\"\"\n",
    "    Deep learning is a subset of machine learning that \n",
    "    uses multilayered neural networks to simulate the complex decision-making power of the human brain. It powers most artificial intelligence (AI) applications in our lives today. Deep learning models use hundreds or thousands of layers, typically hundreds or thousands, to train the models. They can use unsupervised learning to extract characteristics, features, and relationships from raw, unstructured data, and can evaluate and refine their outputs for increased precision. Deep learning drives many applications and services that improve automation, performing analytical and physical tasks without human intervention. It requires a significant amount of computing power, such as high-performance GPUs or distributed cloud computing, to train deep algorithms through deep learning. Most deep learning apps are coded with one of\n",
    "    three learning frameworks: JAX, PyTorch, or TensorFlow.\n",
    "\n",
    "\"\"\""
   ]
  },
  {
   "cell_type": "code",
   "execution_count": null,
   "id": "599d9584-9991-4e26-baea-4d674770c3a1",
   "metadata": {},
   "outputs": [],
   "source": [
    "from rouge import Rouge\n",
    "\n",
    "rouge = Rouge()\n",
    "scores = rouge.get_scores(summary, ref_summary)\n",
    "scores"
   ]
  },
  {
   "cell_type": "code",
   "execution_count": null,
   "id": "9c320fa1-0c4e-4265-82e8-c178d41af931",
   "metadata": {},
   "outputs": [],
   "source": [
    "trainer.save_model()"
   ]
  },
  {
   "cell_type": "code",
   "execution_count": null,
   "id": "a35756fe-c081-4a37-9d35-fb53564f52df",
   "metadata": {},
   "outputs": [],
   "source": [
    "model.save_pretrained(\"summarizer\")"
   ]
  }
 ],
 "metadata": {
  "kernelspec": {
   "display_name": "Python (GPU)",
   "language": "python",
   "name": "gpu_env"
  },
  "language_info": {
   "codemirror_mode": {
    "name": "ipython",
    "version": 3
   },
   "file_extension": ".py",
   "mimetype": "text/x-python",
   "name": "python",
   "nbconvert_exporter": "python",
   "pygments_lexer": "ipython3",
   "version": "3.9.19"
  }
 },
 "nbformat": 4,
 "nbformat_minor": 5
}
